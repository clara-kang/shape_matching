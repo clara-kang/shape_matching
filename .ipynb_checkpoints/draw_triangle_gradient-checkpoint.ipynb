{
 "cells": [
  {
   "cell_type": "code",
   "execution_count": 39,
   "metadata": {},
   "outputs": [],
   "source": [
    "import numpy as np\n",
    "import matplotlib.pyplot as plt\n",
    "import math\n",
    "\n",
    "trig1_verts = np.array([[0, 0], [2, 0], [0.7, 1.2], [0, 0]])\n",
    "trig2_verts = np.array([[0, 0], [1.1, -1.8], [2, 0], [0, 0]])\n",
    "\n",
    "# uvs = np.array([[0, 0],[1, 0],[0.5, math.sqrt(3)/2]])\n",
    "uvs = np.array([[1, 0],[0.5, math.sqrt(3)/2], [0, 0]])\n",
    "# uvs = np.array([[0.5, math.sqrt(3)/2], [0, 0],[1, 0]])\n"
   ]
  },
  {
   "cell_type": "code",
   "execution_count": 40,
   "metadata": {},
   "outputs": [],
   "source": [
    "class Elem:\n",
    "    def __init__(self, vs, fgs):\n",
    "        self.vs = vs\n",
    "        self.bs = np.zeros(3)\n",
    "        self.cs = np.zeros(3)\n",
    "        \n",
    "        self.center = (vs[0] + vs[1] + vs[2]) / 3\n",
    "        print(\"self.center: \", self.center)\n",
    "        \n",
    "        self.bs[0] = vs[1][1] - vs[2][1]\n",
    "        self.bs[1] = vs[2][1] - vs[0][1]\n",
    "        self.bs[2] = vs[0][1] - vs[1][1]\n",
    "        \n",
    "        self.cs[0] = vs[2][0] - vs[1][0]\n",
    "        self.cs[1] = vs[0][0] - vs[2][0]\n",
    "        self.cs[2] = vs[1][0] - vs[0][0]\n",
    "        \n",
    "        self.twoA = np.dot(vs[:,0], self.bs)\n",
    "        \n",
    "        fs = fgs[:,0]\n",
    "        gs = fgs[:,1]\n",
    "        \n",
    "        self.fx = np.dot(fs, self.bs) / self.twoA\n",
    "        self.fy = np.dot(fs, self.cs) / self.twoA\n",
    "        self.gx = np.dot(gs, self.bs) / self.twoA\n",
    "        self.gy = np.dot(gs, self.cs) / self.twoA"
   ]
  },
  {
   "cell_type": "code",
   "execution_count": 41,
   "metadata": {},
   "outputs": [
    {
     "name": "stdout",
     "output_type": "stream",
     "text": [
      "self.center:  [0.9 0.4]\n",
      "self.center:  [ 1.03333333 -0.6       ]\n"
     ]
    },
    {
     "data": {
      "text/plain": [
       "(-0.1, 2.1, -1.9500000000000002, 1.35)"
      ]
     },
     "execution_count": 41,
     "metadata": {},
     "output_type": "execute_result"
    },
    {
     "data": {
      "image/png": "[encoded data removed]",
      "text/plain": [
       "<Figure size 432x288 with 1 Axes>"
      ]
     },
     "metadata": {
      "needs_background": "light"
     },
     "output_type": "display_data"
    }
   ],
   "source": [
    "\n",
    "elem1 = Elem(trig1_verts[:3], uvs)\n",
    "elem2 = Elem(trig2_verts[:3], uvs)\n",
    "\n",
    "plt.plot(trig1_verts[:, 0], trig1_verts[:, 1])\n",
    "plt.plot(trig2_verts[:, 0], trig2_verts[:, 1])\n",
    "plt.arrow(elem1.center[0], elem1.center[1], elem1.fx, elem1.fy, color='b', width=0.02)\n",
    "plt.arrow(elem1.center[0], elem1.center[1], elem1.gx, elem1.gy, color='r', width=0.02)\n",
    "plt.arrow(elem2.center[0], elem2.center[1], elem2.fx, elem2.fy, color='b', width=0.02)\n",
    "plt.arrow(elem2.center[0], elem2.center[1], elem2.gx, elem2.gy, color='r', width=0.02)\n",
    "plt.axis('scaled')"
   ]
  },
  {
   "cell_type": "code",
   "execution_count": null,
   "metadata": {},
   "outputs": [],
   "source": []
  }
 ],
 "metadata": {
  "kernelspec": {
   "display_name": "Python 3",
   "language": "python",
   "name": "python3"
  },
  "language_info": {
   "codemirror_mode": {
    "name": "ipython",
    "version": 3
   },
   "file_extension": ".py",
   "mimetype": "text/x-python",
   "name": "python",
   "nbconvert_exporter": "python",
   "pygments_lexer": "ipython3",
   "version": "3.6.4"
  }
 },
 "nbformat": 4,
 "nbformat_minor": 2
}
