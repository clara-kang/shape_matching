{
 "cells": [
  {
   "cell_type": "markdown",
   "metadata": {},
   "source": [
    "# parse svg to get control points and length for each curve"
   ]
  },
  {
   "cell_type": "code",
   "execution_count": 1,
   "metadata": {},
   "outputs": [],
   "source": [
    "import triangle as tr\n",
    "import harmonic_mapping\n",
    "\n",
    "class BoundaryNode:\n",
    "    def __init__(self, loc, v_before, sl_id):\n",
    "        self.loc = loc\n",
    "        self.v_before = v_before\n",
    "        self.sl_id = sl_id\n",
    "\n",
    "    def __repr__(self):\n",
    "        return \"loc: \" + str(self.loc) + \", v_before: \" + str(self.v_before) + \", sl_id: \" + str(self.sl_id)\n",
    "\n",
    "class MegaNode:\n",
    "    def __init__(self, loc, out_line_ids=[], list_id = 0):\n",
    "        self.loc = loc\n",
    "        self.out_line_ids = out_line_ids\n",
    "        self.list_id = list_id\n",
    "        \n",
    "def segIntrsct(s1, e1, s2, e2):\n",
    "    v1 = e1 - s1\n",
    "    v2 = e2 - s2\n",
    "    M = np.zeros([2,2])\n",
    "    M[:,0] = v1\n",
    "    M[:,1] = -v2\n",
    "    rhs = s2 - s1\n",
    "    ts = np.linalg.solve(M, rhs)\n",
    "    if ts[0] >= 0 and ts[0] <= 1 and ts[1] >= 0 and ts[1] <= 1:\n",
    "        return (True, s1 + v1 * ts[0])\n",
    "    return (False, None)\n",
    "\n",
    "\n"
   ]
  },
  {
   "cell_type": "code",
   "execution_count": 2,
   "metadata": {},
   "outputs": [],
   "source": [
    "from svg.path import parse_path\n",
    "import xml.etree.ElementTree as ET\n",
    "import numpy as np\n",
    "\n",
    "ns = \"{http://www.w3.org/2000/svg}\"\n",
    "tree = ET.parse(\"svgs/doll_dress_4.svg\")\n",
    "root = tree.getroot()\n",
    "\n",
    "g = root.findall(ns + \"g\")[0]\n",
    "paths = g.findall(ns  + \"path\")\n",
    "path_objs = []\n",
    "\n",
    "for p in paths:\n",
    "    path_obj = parse_path(p.attrib[\"d\"])\n",
    "    path_objs.append(path_obj)\n",
    "\n",
    "\n",
    "html_str_1 = '''\n",
    "<!DOCTYPE html>\n",
    "<html>\n",
    "<body>\n",
    "\n",
    "<svg height=\"800\" width=\"1000\">\n",
    "<g transform=\"scale(4)\">\n",
    "'''\n",
    "\n",
    "html_path_str = \"\"\n",
    "\n",
    "# for p in paths:\n",
    "#     html_path_str += \"<path d=\\\"\" + p.attrib[\"d\"] + \"\\\" />\\n\"\n",
    "        \n",
    "# [cps for curve1, cps for curve2, ...]\n",
    "paths_cps = []\n",
    "# [length of curve1, length of curve2, ...]\n",
    "paths_lengths = []\n",
    "# [[curve1_id, curve2_id, ..], [curve1_id, curve2_id, ..], ...] \n",
    "shape_curve_ids = []\n",
    "\n",
    "c_id = 0\n",
    "for p_obj in path_objs:\n",
    "    path_cps = []\n",
    "    path_lens = []\n",
    "    curve_ids = []\n",
    "    for i in range(len(p_obj)):\n",
    "        curve = p_obj[i]\n",
    "        p_name = type(curve).__name__\n",
    "        d_str = \"\"\n",
    "        if p_name == \"CubicBezier\":\n",
    "            cpts = np.zeros([4, 2])\n",
    "            cpts[0][0] = curve.start.real\n",
    "            cpts[0][1] = -curve.start.imag\n",
    "            cpts[1][0] = curve.control1.real\n",
    "            cpts[1][1] = -curve.control1.imag\n",
    "            cpts[2][0] = curve.control2.real\n",
    "            cpts[2][1] = -curve.control2.imag\n",
    "            cpts[3][0] = curve.end.real\n",
    "            cpts[3][1] = -curve.end.imag\n",
    "            \n",
    "            d_str = d_str + \"M \" + str(curve.start.real) + \" \" + str(curve.start.imag) + \" \"\n",
    "            d_str = d_str + \"C \" + str(curve.control1.real) + \" \" + str(curve.control1.imag)\n",
    "            d_str = d_str + \", \" + str(curve.control2.real) + \" \" + str(curve.control2.imag)\n",
    "            d_str = d_str + \", \" + str(curve.end.real) + \" \" + str(curve.end.imag)\n",
    "            \n",
    "            path_cps.append(cpts)\n",
    "            curve_ids.append(c_id)\n",
    "        elif p_name == \"Line\" or p_name == \"Close\":\n",
    "            if curve.length() < 0.0001:\n",
    "                continue\n",
    "                \n",
    "            cpts = np.zeros([2, 2])\n",
    "            cpts[0][0] = curve.start.real\n",
    "            cpts[0][1] = -curve.start.imag\n",
    "            cpts[1][0] = curve.end.real\n",
    "            cpts[1][1] = -curve.end.imag\n",
    "        \n",
    "            d_str = d_str + \"M \" + str(curve.start.real) + \" \" + str(curve.start.imag) + \" \"\n",
    "            d_str = d_str + \"L \" + str(curve.end.real) + \" \" + str(curve.end.imag)\n",
    "            \n",
    "            path_cps.append(cpts)\n",
    "            curve_ids.append(c_id)\n",
    "            \n",
    "        else:\n",
    "            continue\n",
    "            \n",
    "        path_lens.append(curve.length())\n",
    "        \n",
    "        html_path_str += \"<path id = \\\"\" + str(c_id) + \"\\\" d=\\\"\" + d_str + \"\\\" stroke=\\\"black\\\" fill=\\\"transparent\\\" />\\n\"\n",
    "        c_id +=1\n",
    "        \n",
    "    shape_curve_ids.append(curve_ids)\n",
    "    paths_cps.extend(path_cps)\n",
    "    paths_lengths.extend(path_lens)\n",
    "        \n",
    "# label the paths\n",
    "html_text_str = \"<text font-size=\\\"4\\\">\"\n",
    "\n",
    "for i in range(len(paths_cps)):\n",
    "    html_text_str = html_text_str + \"<textPath href=\\\"#\" + str(i) + \"\\\" startOffset=\\\"40%\\\">\" + str(i) + \"</textPath>\\n\"\n",
    "html_text_str += \"</text>\"\n",
    "\n",
    "# end of html file\n",
    "html_str_2 = '''\n",
    "</g>\n",
    "</svg>\n",
    "\n",
    "</body>\n",
    "</html>\n",
    "'''\n",
    "html_file = open(\"svg_display.html\", \"w\")\n",
    "html_file.write(html_str_1)\n",
    "html_file.write(html_path_str)\n",
    "html_file.write(html_text_str)\n",
    "html_file.write(html_str_2)\n",
    "html_file.close()\n"
   ]
  },
  {
   "cell_type": "code",
   "execution_count": 3,
   "metadata": {},
   "outputs": [
    {
     "data": {
      "text/plain": [
       "[19.624464255034987,\n",
       " 12.353803171464287,\n",
       " 21.154448322735554,\n",
       " 55.637197521608684,\n",
       " 32.88610224890295,\n",
       " 70.3038240209236,\n",
       " 30.49743224812584,\n",
       " 23.8504070810946,\n",
       " 22.073306842550085,\n",
       " 31.136613214008747,\n",
       " 31.93954513687252,\n",
       " 19.624464255034972,\n",
       " 12.353811891306304,\n",
       " 21.154451005014707,\n",
       " 55.63719691929087,\n",
       " 32.88610224890295,\n",
       " 70.30382402092363,\n",
       " 12.353810546070791,\n",
       " 14.498436059613454,\n",
       " 68.98090109660791,\n",
       " 28.537832351887012,\n",
       " 56.856681970962484,\n",
       " 20.51831820551443,\n",
       " 30.497433109488345,\n",
       " 23.850409795604634,\n",
       " 22.07330704012341,\n",
       " 31.136612230726726,\n",
       " 31.93954912496841,\n",
       " 12.353809817032028,\n",
       " 14.49843748410759,\n",
       " 68.98090598401794,\n",
       " 28.5378328362355,\n",
       " 56.856679086476554,\n",
       " 20.5183241260144]"
      ]
     },
     "execution_count": 3,
     "metadata": {},
     "output_type": "execute_result"
    }
   ],
   "source": [
    "paths_lengths"
   ]
  },
  {
   "cell_type": "code",
   "execution_count": 4,
   "metadata": {},
   "outputs": [
    {
     "name": "stdout",
     "output_type": "stream",
     "text": [
      "shape_ccw:  [False, False, True, True, True, False]\n"
     ]
    }
   ],
   "source": [
    "shape_ccw = [None] * len(shape_curve_ids)\n",
    "for sid in range(len(shape_curve_ids)):\n",
    "    cids = shape_curve_ids[sid]\n",
    "    v1 = paths_cps[cids[0]][-1] - paths_cps[cids[0]][0]\n",
    "    wind_num = 0\n",
    "    \n",
    "    def getAngle(v1, v2):\n",
    "        cross_p = np.cross(v1, v2)\n",
    "        cos_theta = np.dot(v1, v2);\n",
    "        if cross_p > 0:\n",
    "            return cos_theta\n",
    "        else:\n",
    "            return -cos_theta\n",
    "            \n",
    "    for cid in range(1, len(cids)):\n",
    "        v2 = paths_cps[cids[cid]][-1] - paths_cps[cids[cid]][0]\n",
    "        wind_num += getAngle(v1, v2)\n",
    "        v1 = v2;\n",
    "\n",
    "    v2 = paths_cps[cids[0]][-1] - paths_cps[cids[0]][0]\n",
    "    wind_num += getAngle(v1, v2)\n",
    "    \n",
    "    if wind_num > 0:\n",
    "        shape_ccw[sid] = True\n",
    "    else:\n",
    "        shape_ccw[sid] = False\n",
    "print(\"shape_ccw: \", shape_ccw)"
   ]
  },
  {
   "cell_type": "markdown",
   "metadata": {},
   "source": [
    "# specify pair of curves to match, if same orientation"
   ]
  },
  {
   "cell_type": "code",
   "execution_count": 5,
   "metadata": {},
   "outputs": [],
   "source": [
    "\n",
    "path_pairs_no_orientation = [\n",
    "    (16, 5), \n",
    "    (30, 19), \n",
    "    (12, 17),\n",
    "    (1, 28),\n",
    "    (21, 14),\n",
    "    (32, 3),\n",
    "    (7, 22),\n",
    "    (8, 13),\n",
    "    (25, 2),\n",
    "    (24, 33),\n",
    "    (6, 9),\n",
    "    (23, 26)\n",
    "]\n",
    "\n",
    "# path_pairs_no_orientation = []\n",
    "path_pairs = []"
   ]
  },
  {
   "cell_type": "code",
   "execution_count": 6,
   "metadata": {},
   "outputs": [],
   "source": [
    "def getShapeId(cid):\n",
    "    global shape_curve_ids\n",
    "    for sid in range(len(shape_curve_ids)):\n",
    "        if cid in shape_curve_ids[sid]:\n",
    "            return sid\n",
    "\n",
    "for ppair in path_pairs_no_orientation:\n",
    "    sid1 = getShapeId(ppair[0])\n",
    "    sid2 = getShapeId(ppair[1])\n",
    "    ccw1 = shape_ccw[sid1]\n",
    "    ccw2 = shape_ccw[sid2]  \n",
    "    path_pairs.append((ppair[0], ppair[1], ccw1 != ccw2))"
   ]
  },
  {
   "cell_type": "code",
   "execution_count": 7,
   "metadata": {},
   "outputs": [],
   "source": [
    "\n",
    "import math\n",
    "\n",
    "path_lens = np.array(path_lens)\n",
    "# at least have this many pts on one curve\n",
    "min_curve_pts_num =12\n",
    "# desired segment length\n",
    "seg_len = np.amin(path_lens) / min_curve_pts_num\n",
    "\n",
    "# get number of vertices for each curve\n",
    "curve_vert_nums = [0] * len(paths_cps)\n",
    "\n",
    "for pair in path_pairs:\n",
    "    # use the maximum curve length of the pair of curves\n",
    "    c1_len = paths_lengths[pair[0]]\n",
    "    c2_len = paths_lengths[pair[1]]\n",
    "    max_len = max(c1_len, c2_len)\n",
    "    # ensure that each segment is less than seg_len\n",
    "    c_vert_num = math.ceil( max_len / seg_len)\n",
    "    # set vertices num for both curves\n",
    "    curve_vert_nums[pair[0]] = c_vert_num\n",
    "    curve_vert_nums[pair[1]] = c_vert_num\n",
    "\n",
    "for cid in range(len(paths_cps)):\n",
    "    # skip if already set\n",
    "    if curve_vert_nums[cid] == 0:\n",
    "        c_len = paths_lengths[cid]\n",
    "        curve_vert_nums[cid] = math.ceil( c_len / seg_len)\n",
    "\n",
    "bndry_verts = [None] * len(paths_cps) # all vertices!\n",
    "bndry_reps = [None] * len(paths_cps)\n",
    "err_thresh = 0.01\n",
    "max_it = 20\n",
    "\n",
    "def get_pair(c_id):\n",
    "    global path_pairs\n",
    "    for pair in path_pairs:\n",
    "        if c_id == pair[0]:\n",
    "            return pair[1]\n",
    "        elif c_id == pair[1]:\n",
    "            return pair[0]\n",
    "    return -1\n",
    "\n",
    "def getPtOnCurve(cps, t):\n",
    "    return (1-t)**3 * cps[0] + 3*t*(1-t)**2 * cps[1] + 3*(1-t)*t**2 * cps[2] + t**3 * cps[3]\n",
    "\n",
    "def getEquitDistantPtOnCurve(cps, pt_num, curve_len):\n",
    "    N = 500\n",
    "    prev_pt = cps[0]\n",
    "    seg_lens = np.zeros(N)\n",
    "    for i in range(1, N):\n",
    "        t = i / N\n",
    "        pt = getPtOnCurve(cps, t)\n",
    "        seg_lens[i] = np.linalg.norm(pt - prev_pt)\n",
    "        prev_pt = pt\n",
    "    avg_seg_len = curve_len / pt_num\n",
    "    bndry_pts = np.zeros([pt_num, 2])\n",
    "    bndry_pts[0] = cps[0]\n",
    "\n",
    "    last_seg = 0\n",
    "    last_seg_part_len = 0\n",
    "    ts = np.zeros(pt_num)\n",
    "\n",
    "    for pt_id in range(1, pt_num):\n",
    "        # find the segment up to which has avg_seg_len\n",
    "        acc_len = last_seg_part_len\n",
    "        for i in range(last_seg, N):\n",
    "            if acc_len + seg_lens[i] < avg_seg_len:\n",
    "                acc_len += seg_lens[i]\n",
    "            else:\n",
    "                # find the portion in segment\n",
    "                last_seg_part_len = acc_len + seg_lens[i] - avg_seg_len\n",
    "                last_seg = i + 1\n",
    "                t = i / N - ( last_seg_part_len / seg_lens[i] ) / N\n",
    "                ts[pt_id] = t\n",
    "                bndry_pts[pt_id] = getPtOnCurve(cps, t)\n",
    "#                 print(\"seg len = \", np.linalg.norm(bndry_pts[pt_id] - bndry_pts[pt_id-1]))\n",
    "                break\n",
    "    return bndry_pts, ts\n",
    "\n",
    "def getTangent(cps, t):\n",
    "    return 3 * (1-t)**2 * (cps[1] - cps[0]) + 6 * (1-t) * t * (cps[2] - cps[1]) + 3 * t**2 * (cps[3] - cps[2])\n",
    "\n",
    "def getReps(cps, ts):\n",
    "    reps = np.zeros([len(ts), 2])\n",
    "    for i in range(len(ts)):\n",
    "        tangent = getTangent(cps, ts[i])\n",
    "        angle = np.arctan2(tangent[1], tangent[0])\n",
    "        reps[i][0] = np.cos(angle * 4)\n",
    "        reps[i][1] = np.sin(angle * 4)\n",
    "    return reps\n",
    "\n",
    "for curve_id in range(len(paths_cps)):\n",
    "    curve_cps = paths_cps[curve_id]\n",
    "    # number of verts on curve already calculated and stored in curve_vert_nums\n",
    "    bndry_vert_num = curve_vert_nums[curve_id]\n",
    "    \n",
    "    # bezier curve\n",
    "    if (len(curve_cps) == 4):\n",
    "        curve_verts, ts = getEquitDistantPtOnCurve(curve_cps, bndry_vert_num, paths_lengths[curve_id])\n",
    "        curve_reps = getReps(curve_cps, ts)\n",
    "    # line\n",
    "    elif (len(curve_cps) == 2):\n",
    "        curve_verts = np.zeros([bndry_vert_num, 2])\n",
    "        curve_reps = np.zeros([bndry_vert_num, 2])\n",
    "        \n",
    "        avg_seg_len = paths_lengths[curve_id] / bndry_vert_num\n",
    "        d_t = 1 / bndry_vert_num\n",
    "        t = 0\n",
    "        dir_vec = (curve_cps[1] - curve_cps[0])\n",
    "        angle = np.arctan2(dir_vec[1], dir_vec[0])\n",
    "        rep = np.array([np.cos(angle * 4), np.sin(angle * 4)])\n",
    "        for v_id in range(bndry_vert_num):\n",
    "            pt_loc = curve_cps[0] + t * dir_vec\n",
    "            curve_verts[v_id] = pt_loc\n",
    "            curve_reps[v_id] = rep\n",
    "            t += d_t\n",
    "    \n",
    "    bndry_verts[curve_id] = curve_verts\n",
    "    bndry_reps[curve_id] = curve_reps\n",
    "\n",
    "# resize the shape\n",
    "size_multiplier = 1 / 16\n",
    "for cid in range(len(bndry_verts)):\n",
    "    for vid in range(len(bndry_verts[cid])):\n",
    "        bndry_verts[cid][vid] *= size_multiplier\n",
    "\n",
    "# how many vertices in each shape\n",
    "shape_verts_num = [0] * len(path_objs)\n",
    "\n",
    "for i in range(len(shape_curve_ids)):\n",
    "    for curve_id in shape_curve_ids[i]:\n",
    "        shape_verts_num[i] += len(bndry_verts[curve_id])\n"
   ]
  },
  {
   "cell_type": "markdown",
   "metadata": {},
   "source": [
    "# shape id"
   ]
  },
  {
   "cell_type": "code",
   "execution_count": 8,
   "metadata": {},
   "outputs": [
    {
     "name": "stdout",
     "output_type": "stream",
     "text": [
      "cid_lengths:  [20, 32, 54, 110, 142, 211]\n",
      "cid_lengths:  [12, 27, 95, 123, 179, 203]\n"
     ]
    }
   ],
   "source": [
    "import cross_field_quadriangulate as cfq\n",
    "\n",
    "\n",
    "res_0 = cfq.untilStreamLine(bndry_verts, shape_curve_ids, 0, bndry_reps, path_pairs_no_orientation)\n",
    "res_5 = cfq.untilStreamLine(bndry_verts, shape_curve_ids, 5, bndry_reps, path_pairs_no_orientation)\n"
   ]
  },
  {
   "cell_type": "code",
   "execution_count": 9,
   "metadata": {},
   "outputs": [
    {
     "data": {
      "text/plain": [
       "{2: [[loc: [11.10882293 -6.75439002], v_before: 39, sl_id: 9, 7],\n",
       "  [loc: [11.13502213 -7.18332438], v_before: 47, sl_id: 0, 15]],\n",
       " 1: [[loc: [10.89865109 -6.08833165], v_before: 24, sl_id: 5, 4],\n",
       "  [loc: [11.21151757 -6.26397572], v_before: 29, sl_id: 1, 9]],\n",
       " 5: [[loc: [ 9.5692385  -7.27402032], v_before: 196, sl_id: 2, 54],\n",
       "  [loc: [ 9.57087071 -6.66684304], v_before: 206, sl_id: 7, 64]],\n",
       " 4: [[loc: [ 11.04482998 -10.78450519], v_before: 118, sl_id: 3, 8],\n",
       "  [loc: [ 10.62404186 -10.77966849], v_before: 125, sl_id: 8, 15]],\n",
       " 3: [[loc: [11.43140835 -7.48950773], v_before: 56, sl_id: 4, 2]],\n",
       " 0: [[loc: [10.36677487 -6.22797401], v_before: 13, sl_id: 6, 13]],\n",
       " 29: [[loc: [ 2.66092982 -6.45084394], v_before: 21, sl_id: 0, 9]],\n",
       " 28: [[loc: [ 1.77904551 -6.25167593], v_before: 1, sl_id: 5, 1],\n",
       "  [loc: [ 2.16011004 -6.06643227], v_before: 8, sl_id: 1, 8]],\n",
       " 33: [[loc: [ 1.68878078 -7.19785987], v_before: 185, sl_id: 6, 6],\n",
       "  [loc: [ 1.8109092  -6.77653661], v_before: 193, sl_id: 2, 14]],\n",
       " 31: [[loc: [  2.35907576 -10.87593355], v_before: 103, sl_id: 3, 8],\n",
       "  [loc: [  1.63500848 -10.87223728], v_before: 115, sl_id: 8, 20]],\n",
       " 30: [[loc: [ 2.96430235 -6.7371351 ], v_before: 29, sl_id: 4, 2],\n",
       "  [loc: [ 2.95855459 -7.37664177], v_before: 39, sl_id: 9, 12]],\n",
       " 32: [[loc: [ 1.44809843 -7.48850094], v_before: 176, sl_id: 7, 53]]}"
      ]
     },
     "execution_count": 9,
     "metadata": {},
     "output_type": "execute_result"
    }
   ],
   "source": [
    "cid_node_map = {**res_0[0], **res_5[0]}\n",
    "\n",
    "for key in cid_node_map:\n",
    "    cid_node_map[key].sort(key=lambda x: x[1])\n",
    "cid_node_map"
   ]
  },
  {
   "cell_type": "code",
   "execution_count": 10,
   "metadata": {},
   "outputs": [],
   "source": [
    "shape_sls = {0: res_0[1], 5: res_5[1]}"
   ]
  },
  {
   "cell_type": "code",
   "execution_count": 11,
   "metadata": {},
   "outputs": [
    {
     "data": {
      "text/plain": [
       "<Figure size 1500x1500 with 1 Axes>"
      ]
     },
     "metadata": {},
     "output_type": "display_data"
    }
   ],
   "source": [
    "import matplotlib.pyplot as plt\n",
    "\n",
    "plt.figure(figsize=(15, 15))\n",
    "\n",
    "for key in shape_sls:\n",
    "    shape_sl = shape_sls[key]\n",
    "    for sl in shape_sl:\n",
    "        plt.plot(sl[:,0], sl[:,1])\n",
    "\n",
    "for shape_id in [0, 5]:\n",
    "    for cid in shape_curve_ids[shape_id]:\n",
    "        plt.plot(bndry_verts[cid][:,0], bndry_verts[cid][:,1])\n",
    "plt.axis('scaled')\n",
    "plt.show()"
   ]
  },
  {
   "cell_type": "code",
   "execution_count": 12,
   "metadata": {},
   "outputs": [
    {
     "data": {
      "text/plain": [
       "0.7721131135645017"
      ]
     },
     "execution_count": 12,
     "metadata": {},
     "output_type": "execute_result"
    }
   ],
   "source": [
    "def getCurveLength(cid):\n",
    "#     global bndry_verts, cid_len_cache, shape_curve_ids\n",
    "#     if cid in cid_len_cache:\n",
    "#         return cid_len_cache[cid]\n",
    "#     acc_len = 0\n",
    "#     for i in range(1, len(bndry_verts[cid])):\n",
    "#         acc_len += np.linalg.norm(bndry_verts[cid][i] - bndry_verts[cid][i-1])\n",
    "#     cid_len_cache[cid] = acc_len\n",
    "#     return acc_len\n",
    "    return paths_lengths[cid] * size_multiplier\n",
    "\n",
    "def getCurveLenPercentage(cid, elem_id):\n",
    "    acc_len = 0\n",
    "    vid_bndry = cid_node_map[cid][elem_id][1]\n",
    "    for i in range(1, vid_bndry+1):\n",
    "        acc_len += np.linalg.norm(bndry_verts[cid][i] - bndry_verts[cid][i-1])\n",
    "    acc_len += np.linalg.norm(cid_node_map[cid][elem_id][0].loc - bndry_verts[cid][vid_bndry])\n",
    "    \n",
    "    return acc_len / getCurveLength(cid)\n",
    "\n",
    "getCurveLength(28)"
   ]
  },
  {
   "cell_type": "code",
   "execution_count": 13,
   "metadata": {},
   "outputs": [
    {
     "data": {
      "text/plain": [
       "{2: [0.3626889728768425, 0.701942449569144],\n",
       " 1: [0.3393862628767635, 0.8040831606883159],\n",
       " 5: [0.7950471767766336, 0.9332312914768394],\n",
       " 4: [0.2774671474036133, 0.4822057526037647],\n",
       " 3: [0.03760600263539743],\n",
       " 0: [0.6689128850230059],\n",
       " 29: [0.6326312937471454],\n",
       " 28: [0.16542683941657563, 0.714186290936775],\n",
       " 33: [0.26132103600254136, 0.6139770384519596],\n",
       " 31: [0.31845964870568944, 0.7244199578324445],\n",
       " 30: [0.03930161545428787, 0.18764005739826642],\n",
       " 32: [0.9590907332020976]}"
      ]
     },
     "execution_count": 13,
     "metadata": {},
     "output_type": "execute_result"
    }
   ],
   "source": [
    "cid_node_percentage_map = {}\n",
    "\n",
    "for cid in cid_node_map:\n",
    "    cid_node_percentage_map[cid] = []\n",
    "    for elem_id in range(len(cid_node_map[cid])):\n",
    "        cid_node_percentage_map[cid].append(getCurveLenPercentage(cid, elem_id))\n",
    "        \n",
    "cid_node_percentage_map"
   ]
  },
  {
   "cell_type": "code",
   "execution_count": 14,
   "metadata": {},
   "outputs": [],
   "source": [
    "def getLocByPercntg(cid, perc):\n",
    "    c_len = getCurveLength(cid) * perc\n",
    "    acc_len = 0\n",
    "    for i in range(1, len(bndry_verts[cid])):\n",
    "        seg_len = np.linalg.norm(bndry_verts[cid][i] - bndry_verts[cid][i-1])\n",
    "        acc_len += seg_len\n",
    "        if acc_len >= c_len:\n",
    "            acc_len -= seg_len\n",
    "            remainder_len = c_len - acc_len\n",
    "            t = remainder_len / seg_len\n",
    "            loc = bndry_verts[cid][i-1] * (1-t) + t * bndry_verts[cid][i]\n",
    "            remainder_vid = i - 1\n",
    "            return (loc, remainder_vid)\n",
    "        \n",
    "def getShapeId(cid):\n",
    "    global shape_curve_ids\n",
    "    for sid in range(len(shape_curve_ids)):\n",
    "        if cid in shape_curve_ids[sid]:\n",
    "            return sid      \n",
    "\n",
    "def getVBefore(shape_id, cid, vid):\n",
    "    global shape_curve_ids\n",
    "    v_num = 0\n",
    "    for i in range(len(shape_curve_ids[shape_id])):\n",
    "        cur_cid = shape_curve_ids[shape_id][i]\n",
    "        if cur_cid != cid:\n",
    "            v_num += len(bndry_verts[cur_cid])\n",
    "        else:\n",
    "            v_num += vid\n",
    "            return v_num"
   ]
  },
  {
   "cell_type": "code",
   "execution_count": 15,
   "metadata": {},
   "outputs": [
    {
     "data": {
      "text/plain": [
       "10"
      ]
     },
     "execution_count": 15,
     "metadata": {},
     "output_type": "execute_result"
    }
   ],
   "source": [
    "len(shape_sls[0])"
   ]
  },
  {
   "cell_type": "code",
   "execution_count": 16,
   "metadata": {},
   "outputs": [
    {
     "name": "stdout",
     "output_type": "stream",
     "text": [
      "ppair:  (1, 28)\n",
      "percs:  0.3393862628767635 0.285813709063225 0.3125999859699943\n",
      "new_loc:  [ 2.14150936 -6.07547446]\n",
      "old_loc:  [ 2.16011004 -6.06643227]\n",
      "node_displcmnt:  [-0.01860068 -0.00904219]\n",
      "percs:  0.8040831606883159 0.8345731605834243 0.8193281606358701\n",
      "new_loc:  [ 1.7896318  -6.24652971]\n",
      "old_loc:  [ 1.77904551 -6.25167593]\n",
      "node_displcmnt:  [0.01058629 0.00514623]\n",
      "ppair:  (32, 3)\n",
      "percs:  0.9590907332020976 0.9623939973646025 0.96074236528335\n",
      "new_loc:  [11.42964191 -7.49497259]\n",
      "old_loc:  [11.43140835 -7.48950773]\n",
      "node_displcmnt:  [-0.00176645 -0.00546486]\n"
     ]
    }
   ],
   "source": [
    "def intrpSlwithDisp(sl_id, shape_id, displcmnt):\n",
    "    global shape_sls\n",
    "    for i in range(len(shape_sls[shape_id][sl_id])):\n",
    "        t = i / (len(shape_sls[shape_id][sl_id]) - 1)\n",
    "        shape_sls[shape_id][sl_id][i] += t**2 * displcmnt\n",
    "# snap\n",
    "for ppair in path_pairs_no_orientation:\n",
    "    if ppair[0] in cid_node_percentage_map and ppair[1] in cid_node_percentage_map:\n",
    "        print(\"ppair: \", ppair)\n",
    "        elem_num = len(cid_node_percentage_map[ppair[0]])\n",
    "        for elem_id in range(elem_num):\n",
    "            perc_0 = cid_node_percentage_map[ppair[0]][elem_id]\n",
    "            perc_1 = 1 - cid_node_percentage_map[ppair[1]][elem_num - 1 - elem_id]\n",
    "            perc_avg = (perc_0 + perc_1)/2\n",
    "            print(\"percs: \", perc_0, perc_1, perc_avg)\n",
    "            \n",
    "            #adjust node position\n",
    "            new_loc, remainder_vid = getLocByPercntg(ppair[0], perc_avg)\n",
    "            node_displcmnt = new_loc - cid_node_map[ppair[0]][elem_id][0].loc\n",
    "            v_diff = remainder_vid - cid_node_map[ppair[0]][elem_id][1]\n",
    "#             print(\"node_displcmnt: \", node_displcmnt)\n",
    "            \n",
    "            sl_id = cid_node_map[ppair[0]][elem_id][0].sl_id\n",
    "            shape_id = getShapeId(ppair[0])\n",
    "            intrpSlwithDisp(sl_id, shape_id, node_displcmnt)\n",
    "            \n",
    "            cid_node_map[ppair[0]][elem_id][0].loc = new_loc\n",
    "            cid_node_map[ppair[0]][elem_id][0].v_before += v_diff\n",
    "            cid_node_map[ppair[0]][elem_id][1] = remainder_vid\n",
    "            \n",
    "            new_loc, remainder_vid = getLocByPercntg(ppair[1], 1 - perc_avg)\n",
    "            node_displcmnt = new_loc - cid_node_map[ppair[1]][elem_num - 1 - elem_id][0].loc\n",
    "            v_diff = remainder_vid - cid_node_map[ppair[1]][elem_num - 1 - elem_id][1]\n",
    "            \n",
    "            print(\"new_loc: \", new_loc)\n",
    "            print(\"old_loc: \", cid_node_map[ppair[1]][elem_num - 1 - elem_id][0].loc)\n",
    "            print(\"node_displcmnt: \", node_displcmnt)\n",
    "            \n",
    "            sl_id = cid_node_map[ppair[1]][elem_num - 1 - elem_id][0].sl_id\n",
    "            shape_id = getShapeId(ppair[1])\n",
    "            intrpSlwithDisp(sl_id, shape_id, node_displcmnt)\n",
    "            \n",
    "            cid_node_map[ppair[1]][elem_num - 1 - elem_id][0].loc = new_loc\n",
    "            cid_node_map[ppair[1]][elem_num - 1 - elem_id][0].v_before += v_diff\n",
    "            cid_node_map[ppair[1]][elem_num - 1 - elem_id][1] = remainder_vid\n",
    "            "
   ]
  },
  {
   "cell_type": "code",
   "execution_count": 17,
   "metadata": {},
   "outputs": [],
   "source": [
    "\n",
    "# new_bndry_nodes = []\n",
    "# for key in res_0[0]:\n",
    "#     for elem in cid_node_map[key]:\n",
    "#         new_bndry_nodes.append(elem[0])\n",
    "# stream_lines = res_0[1]\n",
    "# vertices = res_0[2]\n",
    "# faces = res_0[3]"
   ]
  },
  {
   "cell_type": "code",
   "execution_count": 18,
   "metadata": {},
   "outputs": [],
   "source": [
    "# new_bndry_nodes"
   ]
  },
  {
   "cell_type": "code",
   "execution_count": 19,
   "metadata": {},
   "outputs": [],
   "source": [
    "\n",
    "new_bndry_nodes = []\n",
    "for key in res_5[0]:\n",
    "    for elem in cid_node_map[key]:\n",
    "        new_bndry_nodes.append(elem[0])\n",
    "stream_lines = res_5[1]\n",
    "vertices = res_5[2]\n",
    "faces = res_5[3]"
   ]
  },
  {
   "cell_type": "code",
   "execution_count": 20,
   "metadata": {},
   "outputs": [
    {
     "data": {
      "text/plain": [
       "[loc: [ 2.66092982 -6.45084394], v_before: 21, sl_id: 0,\n",
       " loc: [ 1.7896318  -6.24652971], v_before: 2, sl_id: 5,\n",
       " loc: [ 2.14150936 -6.07547446], v_before: 8, sl_id: 1,\n",
       " loc: [ 1.68878078 -7.19785987], v_before: 185, sl_id: 6,\n",
       " loc: [ 1.8109092  -6.77653661], v_before: 193, sl_id: 2,\n",
       " loc: [  2.35907576 -10.87593355], v_before: 103, sl_id: 3,\n",
       " loc: [  1.63500848 -10.87223728], v_before: 115, sl_id: 8,\n",
       " loc: [ 2.96430235 -6.7371351 ], v_before: 29, sl_id: 4,\n",
       " loc: [ 2.95855459 -7.37664177], v_before: 39, sl_id: 9,\n",
       " loc: [ 1.44658061 -7.48283146], v_before: 176, sl_id: 7]"
      ]
     },
     "execution_count": 20,
     "metadata": {},
     "output_type": "execute_result"
    }
   ],
   "source": [
    "new_bndry_nodes"
   ]
  },
  {
   "cell_type": "code",
   "execution_count": 21,
   "metadata": {},
   "outputs": [
    {
     "name": "stdout",
     "output_type": "stream",
     "text": [
      "quads_line_ids:  [[0, 4, 18, 17], [0, 16, 15, 1], [1, 14, 11, 2], [2, 5, 9, 3], [3, 13, 19, 4], [5, 10, 27, 6], [6, 26, 25, 7], [7, 24, 23, 8], [8, 22, 12, 9], [10, 11, 29, 28], [12, 21, 20, 13]]\n",
      "cid:  30\n",
      "cid in pair\n",
      "cid:  28\n",
      "cid in pair\n",
      "pairing_lid:  15\n",
      "cid:  29\n",
      "cid:  31\n",
      "pairing_lid:  None\n",
      "cid:  29\n",
      "cid:  33\n",
      "cid in pair\n",
      "pairing_lid:  28\n",
      "cid:  31\n",
      "cid:  28\n",
      "cid in pair\n",
      "pairing_lid:  14\n",
      "cid:  30\n",
      "cid in pair\n",
      "cid:  33\n",
      "cid in pair\n",
      "pairing_lid:  19\n",
      "cid:  32\n",
      "cid in pair\n",
      "cid:  28\n",
      "cid in pair\n",
      "pairing_lid:  29\n",
      "cid:  33\n",
      "cid in pair\n",
      "cid:  31\n",
      "pairing_lid:  26\n",
      "cid:  30\n",
      "cid in pair\n",
      "cid:  32\n",
      "cid in pair\n",
      "pairing_lid:  24\n",
      "start parameterizing\n",
      "len(trngl_info['vertices']):  12\n",
      "len(trngl_info['vertices']):  13\n",
      "len(trngl_info['vertices']):  19\n",
      "len(trngl_info['vertices']):  24\n",
      "len(trngl_info['vertices']):  23\n",
      "len(trngl_info['vertices']):  12\n",
      "len(trngl_info['vertices']):  8\n",
      "len(trngl_info['vertices']):  92\n",
      "len(trngl_info['vertices']):  122\n",
      "len(trngl_info['vertices']):  10\n",
      "len(trngl_info['vertices']):  107\n"
     ]
    }
   ],
   "source": [
    "getQuadruangulation(bndry_verts, shape_curve_ids, 5, \\\n",
    "    bndry_reps, path_pairs_no_orientation, new_bndry_nodes, stream_lines, vertices, faces)"
   ]
  },
  {
   "cell_type": "code",
   "execution_count": 22,
   "metadata": {},
   "outputs": [
    {
     "data": {
      "text/plain": [
       "{2: [0.3626889728768425, 0.701942449569144],\n",
       " 1: [0.31259998596999516, 0.8193281606358701],\n",
       " 5: [0.7950471767766336, 0.9332312914768394],\n",
       " 4: [0.2774671474036133, 0.4822057526037647],\n",
       " 3: [0.03925763471664987],\n",
       " 0: [0.6689128850230059],\n",
       " 29: [0.6326312937471454],\n",
       " 28: [0.1806718393641295, 0.6874000140300055],\n",
       " 33: [0.26132103600254136, 0.6139770384519596],\n",
       " 31: [0.31845964870568944, 0.7244199578324445],\n",
       " 30: [0.03930161545428787, 0.18764005739826642],\n",
       " 32: [0.96074236528335]}"
      ]
     },
     "execution_count": 22,
     "metadata": {},
     "output_type": "execute_result"
    }
   ],
   "source": [
    "new_cid_node_percentage_map = {}\n",
    "\n",
    "for cid in cid_node_map:\n",
    "    new_cid_node_percentage_map[cid] = []\n",
    "    for elem_id in range(len(cid_node_map[cid])):\n",
    "        new_cid_node_percentage_map[cid].append(getCurveLenPercentage(cid, elem_id))\n",
    "        \n",
    "new_cid_node_percentage_map"
   ]
  },
  {
   "cell_type": "code",
   "execution_count": null,
   "metadata": {},
   "outputs": [],
   "source": [
    "plt.figure(figsize=(15, 15))\n",
    "\n",
    "for key in shape_sls:\n",
    "    shape_sl = shape_sls[key]\n",
    "    for sl in shape_sl:\n",
    "        plt.plot(sl[:,0], sl[:,1])\n",
    "\n",
    "for shape_id in [0, 5]:\n",
    "    for cid in shape_curve_ids[shape_id]:\n",
    "        plt.plot(bndry_verts[cid][:,0], bndry_verts[cid][:,1])\n",
    "plt.axis('scaled')\n",
    "plt.show()"
   ]
  },
  {
   "cell_type": "code",
   "execution_count": null,
   "metadata": {},
   "outputs": [],
   "source": []
  },
  {
   "cell_type": "code",
   "execution_count": null,
   "metadata": {},
   "outputs": [],
   "source": []
  },
  {
   "cell_type": "code",
   "execution_count": null,
   "metadata": {},
   "outputs": [],
   "source": []
  },
  {
   "cell_type": "code",
   "execution_count": null,
   "metadata": {},
   "outputs": [],
   "source": []
  }
 ],
 "metadata": {
  "kernelspec": {
   "display_name": "Python 3",
   "language": "python",
   "name": "python3"
  },
  "language_info": {
   "codemirror_mode": {
    "name": "ipython",
    "version": 3
   },
   "file_extension": ".py",
   "mimetype": "text/x-python",
   "name": "python",
   "nbconvert_exporter": "python",
   "pygments_lexer": "ipython3",
   "version": "3.6.4"
  }
 },
 "nbformat": 4,
 "nbformat_minor": 2
}
