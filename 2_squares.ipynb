{
 "cells": [
  {
   "cell_type": "code",
   "execution_count": 1,
   "metadata": {},
   "outputs": [],
   "source": [
    "import numpy as np\n",
    "\n",
    "ps = np.zeros([8, 2])\n",
    "ps[0] = np.array([57.175018, -79.090608])\n",
    "ps[1] = ps[0] + np.array([-4.630209,8.019756])\n",
    "ps[2] = ps[1] + np.array([8.019756,4.630209])\n",
    "ps[3] = ps[2] + np.array([4.630209,-8.019756])\n",
    "\n",
    "ps[4] = np.array([30.591496,-89.460855])\n",
    "ps[5] = ps[4] + np.array([-0.323184,9.254775 ])\n",
    "ps[6] = ps[5] + np.array([9.254775,0.323184])\n",
    "ps[7] = ps[6] + np.array([0.323184,-9.254775])\n",
    "\n",
    "for p in ps:\n",
    "    p[1] += 100\n"
   ]
  },
  {
   "cell_type": "code",
   "execution_count": 8,
   "metadata": {},
   "outputs": [
    {
     "data": {
      "image/png": "[encoded data removed]",
      "text/plain": [
       "<Figure size 432x288 with 1 Axes>"
      ]
     },
     "metadata": {
      "needs_background": "light"
     },
     "output_type": "display_data"
    }
   ],
   "source": [
    "import matplotlib.pyplot as plt\n",
    "\n",
    "plt.axis('equal')\n",
    "plt.plot(ps[:,0], ps[:,1], 'o')\n",
    "\n",
    "for i in range(8):\n",
    "    plt.annotate(str(i), (ps[i][0], ps[i][1]))"
   ]
  },
  {
   "cell_type": "code",
   "execution_count": 23,
   "metadata": {},
   "outputs": [],
   "source": [
    "f = open(\"square_pts.txt\")\n",
    "xs = []\n",
    "ys = []\n",
    "\n",
    "for line in f.readlines():\n",
    "    segs = line.split()\n",
    "    xs.append(float(segs[0]))\n",
    "    ys.append(float(segs[1]))"
   ]
  },
  {
   "cell_type": "code",
   "execution_count": 24,
   "metadata": {},
   "outputs": [
    {
     "data": {
      "image/png": "[encoded data removed]",
      "text/plain": [
       "<Figure size 432x288 with 1 Axes>"
      ]
     },
     "metadata": {
      "needs_background": "light"
     },
     "output_type": "display_data"
    }
   ],
   "source": [
    "plt.axis('equal')\n",
    "\n",
    "start_idx = 0\n",
    "\n",
    "plt.plot(xs[:], ys[:], \"o\")\n",
    "\n",
    "for i in range(8):\n",
    "    plt.annotate(str(i), (xs[i], ys[i]))"
   ]
  },
  {
   "cell_type": "code",
   "execution_count": 22,
   "metadata": {},
   "outputs": [
    {
     "data": {
      "text/plain": [
       "array([[9.2, 2.6],\n",
       "       [9.2, 4.6],\n",
       "       [7.2, 4.6],\n",
       "       [7.2, 2.6]])"
      ]
     },
     "execution_count": 22,
     "metadata": {},
     "output_type": "execute_result"
    }
   ],
   "source": [
    "origin = np.array([8.2, 3.6])\n",
    "p = np.zeros([4,2])\n",
    "p[0] = np.array([1, -1])\n",
    "p[1] = np.array([1, 1])\n",
    "p[2] = np.array([-1, 1])\n",
    "p[3] = np.array([-1, -1])\n",
    "\n",
    "new_p = np.zeros([4,2])\n",
    "new_p = p + origin\n",
    "    \n",
    "new_p\n"
   ]
  },
  {
   "cell_type": "code",
   "execution_count": null,
   "metadata": {},
   "outputs": [],
   "source": []
  }
 ],
 "metadata": {
  "kernelspec": {
   "display_name": "Python 3",
   "language": "python",
   "name": "python3"
  },
  "language_info": {
   "codemirror_mode": {
    "name": "ipython",
    "version": 3
   },
   "file_extension": ".py",
   "mimetype": "text/x-python",
   "name": "python",
   "nbconvert_exporter": "python",
   "pygments_lexer": "ipython3",
   "version": "3.7.2"
  }
 },
 "nbformat": 4,
 "nbformat_minor": 2
}
